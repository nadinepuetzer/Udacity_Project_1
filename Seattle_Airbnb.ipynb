{
 "cells": [
  {
   "attachments": {},
   "cell_type": "markdown",
   "metadata": {},
   "source": [
    "<h2 id='part1'>A Look at the Data</h2>\n",
    "\n",
    "In order to get a better understanding of the data we will be looking at, let's take a look at some of the characteristics of the dataset.\n",
    "\n",
    "First, let's read in the data and necessary libraries."
   ]
  },
  {
   "cell_type": "code",
   "execution_count": 1,
   "metadata": {},
   "outputs": [],
   "source": [
    "import numpy as np\n",
    "import pandas as pd\n",
    "import datetime as dt\n",
    "import matplotlib.pyplot as plt\n",
    "import seaborn as sns\n",
    "%matplotlib inline\n",
    "\n",
    "df_calendar = pd.read_csv('./data/calendar.csv')\n",
    "\n",
    "df_reviews = pd.read_csv('./data/reviews.csv')\n",
    "\n",
    "df_listings = pd.read_csv('./data/listings.csv')"
   ]
  },
  {
   "attachments": {},
   "cell_type": "markdown",
   "metadata": {},
   "source": [
    "<h2 id='part1'>Question 1:</h2>\n",
    "Do people favour specific seasons? \n",
    "\n",
    "Do get a better idea, which season is best to visit Seattle, I want to have a look, when people are mostly booking AirBnB houses. "
   ]
  },
  {
   "cell_type": "code",
   "execution_count": 2,
   "metadata": {},
   "outputs": [
    {
     "data": {
      "text/html": [
       "<div>\n",
       "<style scoped>\n",
       "    .dataframe tbody tr th:only-of-type {\n",
       "        vertical-align: middle;\n",
       "    }\n",
       "\n",
       "    .dataframe tbody tr th {\n",
       "        vertical-align: top;\n",
       "    }\n",
       "\n",
       "    .dataframe thead th {\n",
       "        text-align: right;\n",
       "    }\n",
       "</style>\n",
       "<table border=\"1\" class=\"dataframe\">\n",
       "  <thead>\n",
       "    <tr style=\"text-align: right;\">\n",
       "      <th></th>\n",
       "      <th>listing_id</th>\n",
       "      <th>date</th>\n",
       "      <th>available</th>\n",
       "      <th>price</th>\n",
       "    </tr>\n",
       "  </thead>\n",
       "  <tbody>\n",
       "    <tr>\n",
       "      <th>0</th>\n",
       "      <td>241032</td>\n",
       "      <td>2016-01-04</td>\n",
       "      <td>t</td>\n",
       "      <td>$85.00</td>\n",
       "    </tr>\n",
       "    <tr>\n",
       "      <th>1</th>\n",
       "      <td>241032</td>\n",
       "      <td>2016-01-05</td>\n",
       "      <td>t</td>\n",
       "      <td>$85.00</td>\n",
       "    </tr>\n",
       "    <tr>\n",
       "      <th>2</th>\n",
       "      <td>241032</td>\n",
       "      <td>2016-01-06</td>\n",
       "      <td>f</td>\n",
       "      <td>NaN</td>\n",
       "    </tr>\n",
       "    <tr>\n",
       "      <th>3</th>\n",
       "      <td>241032</td>\n",
       "      <td>2016-01-07</td>\n",
       "      <td>f</td>\n",
       "      <td>NaN</td>\n",
       "    </tr>\n",
       "    <tr>\n",
       "      <th>4</th>\n",
       "      <td>241032</td>\n",
       "      <td>2016-01-08</td>\n",
       "      <td>f</td>\n",
       "      <td>NaN</td>\n",
       "    </tr>\n",
       "  </tbody>\n",
       "</table>\n",
       "</div>"
      ],
      "text/plain": [
       "   listing_id        date available   price\n",
       "0      241032  2016-01-04         t  $85.00\n",
       "1      241032  2016-01-05         t  $85.00\n",
       "2      241032  2016-01-06         f     NaN\n",
       "3      241032  2016-01-07         f     NaN\n",
       "4      241032  2016-01-08         f     NaN"
      ]
     },
     "execution_count": 2,
     "metadata": {},
     "output_type": "execute_result"
    }
   ],
   "source": [
    "df_calendar.head()"
   ]
  },
  {
   "cell_type": "code",
   "execution_count": 3,
   "metadata": {},
   "outputs": [
    {
     "name": "stdout",
     "output_type": "stream",
     "text": [
      "   Month  Avg_Availability\n",
      "0     01          0.554133\n",
      "6     07          0.627097\n",
      "7     08          0.645051\n",
      "1     02          0.662208\n",
      "3     04          0.663847\n",
      "5     06          0.674384\n",
      "8     09          0.674402\n",
      "4     05          0.675670\n",
      "9     10          0.696514\n",
      "2     03          0.709187\n",
      "10    11          0.713986\n",
      "11    12          0.735573\n"
     ]
    }
   ],
   "source": [
    "# How many listings in total? \n",
    "total_listings = df_calendar['listing_id'].nunique()\n",
    "\n",
    "\n",
    "# How is the portion of available houses per month? \n",
    "availability = df_calendar.groupby('date').available.value_counts().reset_index(name='Count')\n",
    "availability['Portion']=availability.Count/total_listings\n",
    "availability[['Year','Month','Day']] = availability['date'].str.split(pat=\"-\", expand = True)\n",
    "Year_available = availability[(availability.available == 't') & (availability.Year=='2016')][['date','Month','Day','Portion']]\n",
    "Month_available = Year_available.groupby('Month').Portion.mean().reset_index(name='Avg_Availability')\n",
    "print(Month_available.sort_values(by = 'Avg_Availability'))\n",
    "\n"
   ]
  },
  {
   "attachments": {},
   "cell_type": "markdown",
   "metadata": {},
   "source": [
    "The most preferred seasons to visit Seattle seem to be beginning of the year in January and Feruary or in summer in July and August.\n",
    "\n",
    "Let's have a look into the different price ranges between (January,February) and (July, August)."
   ]
  },
  {
   "attachments": {},
   "cell_type": "markdown",
   "metadata": {},
   "source": [
    "<h2 id='part1'>Question 2:</h2>\n",
    "In which of these two season can I get a cheeper house?  "
   ]
  },
  {
   "cell_type": "code",
   "execution_count": 4,
   "metadata": {},
   "outputs": [
    {
     "name": "stdout",
     "output_type": "stream",
     "text": [
      "binned\n",
      "(0, 50]        1096\n",
      "(50, 100]      4394\n",
      "(100, 150]     3399\n",
      "(150, 200]     1290\n",
      "(200, 1500]     994\n",
      "Name: no_listings, dtype: int64\n"
     ]
    }
   ],
   "source": [
    "df_calendar[['Year','Month','Day']] = df_calendar['date'].str.split(pat=\"-\", expand = True)\n",
    "\n",
    "df_beginning = df_calendar[(df_calendar.Year == '2016') & ((df_calendar.Month == '01') | (df_calendar.Month == '02')) & (df_calendar.available == 't')]\n",
    "df_summer = df_calendar[(df_calendar.Year == '2016') & ((df_calendar.Month == '07') | (df_calendar.Month == '08')) & (df_calendar.available == 't')]\n",
    "\n",
    "# What is the average price of the available houses in beginning of year versus summer?\n",
    "#print(df_beginning.head())\n",
    "prices_janfeb = df_beginning.groupby('price')['listing_id'].nunique().reset_index(name='no_listings')\n",
    "prices_janfeb['price_number'] = prices_janfeb['price'].str[1:-3].replace('1,000','1000').astype(int)\n",
    "prices_janfeb = prices_janfeb.sort_values('price_number', ascending = True)\n",
    "\n",
    "#print(prices_janfeb.sort_values('no_listings', ascending = False)[:10])\n",
    "#print(prices_janfeb['price_number'].value_counts(bins=15))\n",
    "\n",
    "bins = [0, 50, 100, 150, 200, 1500]\n",
    "prices_janfeb['binned'] = pd.cut(prices_janfeb['price_number'], bins)\n",
    "print(prices_janfeb.groupby('binned')['no_listings'].sum())"
   ]
  },
  {
   "cell_type": "code",
   "execution_count": 5,
   "metadata": {},
   "outputs": [
    {
     "name": "stdout",
     "output_type": "stream",
     "text": [
      "binned\n",
      "(0, 50]         225\n",
      "(50, 100]      1487\n",
      "(100, 150]     1119\n",
      "(150, 200]      964\n",
      "(200, 1500]    2060\n",
      "Name: no_listings, dtype: int64\n"
     ]
    }
   ],
   "source": [
    "df_summer = df_calendar[(df_calendar.Year == '2016') & ((df_calendar.Month == '07') | (df_calendar.Month == '08')) & (df_calendar.available == 't')]\n",
    "\n",
    "# What is the average price of the available houses in beginning of year versus summer?\n",
    "#print(df_beginning.head())\n",
    "prices_julaug = df_summer.groupby('price')['listing_id'].nunique().reset_index(name='no_listings')\n",
    "prices_julaug['price_number'] = prices_julaug['price'].str[1:-3].replace('1,000','1000').replace('1,199','1199').replace('1,240','1240').replace('1,250','1250').astype(int)\n",
    "prices_julaug = prices_julaug.sort_values('price_number', ascending = True)\n",
    "\n",
    "bins = [0, 50, 100, 150, 200, 1500]\n",
    "prices_julaug['binned'] = pd.cut(prices_julaug['price_number'], bins)\n",
    "print(prices_julaug.groupby('binned')['no_listings'].sum())\n"
   ]
  },
  {
   "attachments": {},
   "cell_type": "markdown",
   "metadata": {},
   "source": [
    "Generally in winter are more cheep houses available than in summer. I can select out of 1096 houses for less than 50$. In summer I can select out of 225 houses for less than 50$. \n",
    "\n",
    "I decide to visit Seattle in winter.\n"
   ]
  },
  {
   "attachments": {},
   "cell_type": "markdown",
   "metadata": {},
   "source": [
    "<h2 id='part1'>Question 3:</h2>\n",
    "Which of that cheep houses are available for 2 weeks at least?"
   ]
  },
  {
   "cell_type": "code",
   "execution_count": 98,
   "metadata": {},
   "outputs": [
    {
     "name": "stdout",
     "output_type": "stream",
     "text": [
      "[  149489   226677   444221   447523   486344   671828   677266   815017\n",
      "   817115  1009838  1142039  1305009  1328159  1340668  1511620  1520449\n",
      "  1520501  1520533  1534622  1541705  1856253  1901706  1925661  2187906\n",
      "  2263643  2605975  2642359  2729077  2986056  3005854  3139972  3245876\n",
      "  3246706  3282760  3403638  3404557  3424114  3424242  3535171  3544964\n",
      "  3637180  3656508  3666970  3732076  3732094  3732103  3793790  3811828\n",
      "  3811872  3811930  3811955  3844087  3876097  3888924  3888986  3889050\n",
      "  3889280  3889299  3889330  3916050  3939683  3953365  3977450  3994601\n",
      "  3994634  4126284  4288801  4374326  4384095  4468524  4494947  4559222\n",
      "  4581256  4639040  4701205  4710866  4710869  4718820  4725935  4735761\n",
      "  4760181  4825472  4832481  4910140  4941356  4995903  5002964  5031285\n",
      "  5031383  5062445  5067177  5078244  5310503  5324459  5640722  5873892\n",
      "  5892185  5950957  5969872  6107518  6117473  6119821  6249164  6317449\n",
      "  6403104  6591894  6629657  6657574  6831239  6888107  7035077  7048843\n",
      "  7069080  7071331  7095802  7258811  7363462  7402861  7417852  7420488\n",
      "  7550234  7561254  7561272  7638263  7679928  7809455  7873345  7902068\n",
      "  7902268  7902330  7902382  7915432  7922013  7922063  7922663  7934963\n",
      "  7956337  7971334  7985714  8002965  8009814  8012443  8017832  8033438\n",
      "  8052307  8061699  8064351  8089214  8094338  8154238  8155580  8155710\n",
      "  8156764  8156860  8156894  8236094  8409695  8409926  8409949  8409962\n",
      "  8409969  8474605  8505940  8507062  8566475  8597687  8653843  8670484\n",
      "  8687967  8717758  8799588  8848403  8866331  8919070  8939306  8939595\n",
      "  8939687  8958290  9063355  9110560  9156273  9157232  9159975  9167786\n",
      "  9168049  9217337  9220485  9294832  9316399  9477539  9563749  9568491\n",
      "  9587410  9611409  9615941  9619737  9628972  9632775  9635943  9679741\n",
      "  9693971  9733841  9813684  9849122  9863457  9925458  9970805 10031055\n",
      " 10126050 10210971 10231701 10274175 10299195 10310373 10318171 10331249\n",
      " 10332096 10340165]\n"
     ]
    },
    {
     "name": "stderr",
     "output_type": "stream",
     "text": [
      "c:\\Users\\Nadine.Puetzer1\\Anaconda3\\lib\\site-packages\\ipykernel_launcher.py:2: SettingWithCopyWarning: \n",
      "A value is trying to be set on a copy of a slice from a DataFrame.\n",
      "Try using .loc[row_indexer,col_indexer] = value instead\n",
      "\n",
      "See the caveats in the documentation: https://pandas.pydata.org/pandas-docs/stable/user_guide/indexing.html#returning-a-view-versus-a-copy\n",
      "  \n"
     ]
    }
   ],
   "source": [
    "#Select only cheep houses first\n",
    "df_beginning['price_number'] = df_beginning['price'].str[1:-3].replace('1,000','1000').astype(int)\n",
    "df_cheep = df_beginning[df_beginning['price_number'] <=50]\n",
    "\n",
    "# which houses are available for 2 weeks?\n",
    "df_cheep = df_cheep.sort_values(['listing_id', 'date'])\n",
    "df_cheep_grouped = df_cheep.groupby(['listing_id','Month'])['Day'].agg(['unique']).reset_index()\n",
    "df_cheep_grouped_days = df_cheep.groupby(['listing_id','Month'])['Day'].agg(['nunique']).reset_index()\n",
    "df_cheep_grouped['nunique'] = df_cheep_grouped_days['nunique']\n",
    "\n",
    "\n",
    "# Finde die Zeilen, wo 14 aufeinander folgende Tage enthalten sind:\n",
    "\n",
    "# Function to count ones in array\n",
    "def count_numbers(numbers):\n",
    "    \"\"\"\n",
    "    Input: [0,0,0,0,1,1,0,1,1,1,1,0,0,0,1,1,1,1,1,1,1,0,0,0,0,0,0,0,0,1,0,0]\n",
    "    Output: [2, 4, 7, 1]\n",
    "    \"\"\"\n",
    "    results = []\n",
    "    counter = 0\n",
    "    if all(p == 1 for p in numbers):\n",
    "        results.append(len(numbers))\n",
    "    else:\n",
    "        for number in numbers:\n",
    "            if number == 1:\n",
    "                counter += 1\n",
    "            elif (number != 1) and counter:\n",
    "                results.append(counter)\n",
    "                counter = 0\n",
    "    return results\n",
    "\n",
    "\"\"\"\n",
    "Determine consecutive days and count nights\n",
    "\"\"\"\n",
    "two_weeks_available = []\n",
    "\n",
    "for i in enumerate(df_cheep_grouped[\"unique\"]):\n",
    "    array = i[1].astype(int)\n",
    "\n",
    "    day_diff = []\n",
    "    for val in range(len(array)-1):\n",
    "        #calculate difference between numbers to determine number of nights\n",
    "        day_diff.append(array[val+1] - array[val])\n",
    "\n",
    "    \"\"\" \n",
    "    Use function for counting ones to determine how many nights are between consecutive days\n",
    "    if element2-element1 = 1 -> 1 night in between and then it is counted\n",
    "    \"\"\"    \n",
    "    count_consecutive_nights = count_numbers(day_diff)\n",
    "   \n",
    "\n",
    "    \"\"\" \n",
    "    Return index if house is available for at least 13 consecutive nights (Output: list of indexes from initial dataframe)\n",
    "    \"\"\"\n",
    "    if np.any(np.asarray(count_consecutive_nights) >= 13):\n",
    "        two_weeks_available.append(i[0])\n",
    "    \n",
    "\n",
    "available_houses = df_cheep_grouped.iloc[two_weeks_available]\n",
    "print(available_houses['listing_id'].unique())\n",
    "\n"
   ]
  },
  {
   "attachments": {},
   "cell_type": "markdown",
   "metadata": {},
   "source": [
    "As a result I got a list of 218 houses, that I can visit in the most favoured season, in winter, for a price less than 50$ per night and are available for at least 13 consecutive nights."
   ]
  }
 ],
 "metadata": {
  "kernelspec": {
   "display_name": "base",
   "language": "python",
   "name": "python3"
  },
  "language_info": {
   "codemirror_mode": {
    "name": "ipython",
    "version": 3
   },
   "file_extension": ".py",
   "mimetype": "text/x-python",
   "name": "python",
   "nbconvert_exporter": "python",
   "pygments_lexer": "ipython3",
   "version": "3.7.6"
  },
  "orig_nbformat": 4,
  "vscode": {
   "interpreter": {
    "hash": "71e08cc607e8a437af5b6e17b6c514b1c8ce41bfe60921a502bdbf292af44bb0"
   }
  }
 },
 "nbformat": 4,
 "nbformat_minor": 2
}
