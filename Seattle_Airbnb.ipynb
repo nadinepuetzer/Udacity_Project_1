{
 "cells": [
  {
   "attachments": {},
   "cell_type": "markdown",
   "metadata": {},
   "source": [
    "<h2 id='part1'>Section 1: Business Understanding</h2>\n",
    "I'm planning a trip to seattle but I have no preferred season or appartment yet. With the help of the open source data set from AirBnB I want to understand, in which season most people visit Seattle. Secondly, I want to book a cheep house, that costs at least 50$ per night and is available for 13 consecutive nights.\n",
    "\n",
    "<h4 id='part1'>My Questions: </h4>\n",
    "\n",
    "1) Do people favour specific seasons?\n",
    "\n",
    "2) Which season is cheepest?\n",
    "\n",
    "3) Which of that cheep houses are available for 2 weeks at least?"
   ]
  },
  {
   "attachments": {},
   "cell_type": "markdown",
   "metadata": {},
   "source": [
    "<h2 id='part1'>Section 2: Data Understanding</h2>\n",
    "\n",
    "In order to get a better understanding of the data we will be looking at, let's take a look at some of the characteristics of the dataset.\n",
    "First, let's read in the data and necessary libraries."
   ]
  },
  {
   "attachments": {},
   "cell_type": "markdown",
   "metadata": {},
   "source": [
    "<h3 id='part1'>Load libraries:</h3>\n",
    "First we need to load all required python packages."
   ]
  },
  {
   "cell_type": "code",
   "execution_count": 100,
   "metadata": {},
   "outputs": [],
   "source": [
    "import numpy as np\n",
    "import pandas as pd\n",
    "import datetime as dt\n",
    "import matplotlib.pyplot as plt\n",
    "import seaborn as sns\n",
    "%matplotlib inline\n"
   ]
  },
  {
   "attachments": {},
   "cell_type": "markdown",
   "metadata": {},
   "source": [
    "<h3 id='part1'>Gather data:</h3>\n",
    "In a next step I will read all the data files, that I need for my analysis."
   ]
  },
  {
   "cell_type": "code",
   "execution_count": 101,
   "metadata": {},
   "outputs": [],
   "source": [
    "\n",
    "df_calendar = pd.read_csv('./data/calendar.csv')\n"
   ]
  },
  {
   "attachments": {},
   "cell_type": "markdown",
   "metadata": {},
   "source": [
    "<h3 id='part1'>Assess our data:</h3>\n",
    "Now we will have a look into our data to see which information are available. Further we will have a look at the quality of data to decide if data cleaning steps required."
   ]
  },
  {
   "cell_type": "code",
   "execution_count": 102,
   "metadata": {},
   "outputs": [
    {
     "name": "stdout",
     "output_type": "stream",
     "text": [
      "Amount of data:\n",
      " (1393570, 4) \n",
      "\n",
      "Number of unique listings:  3818 \n",
      "\n",
      "Data types: \n",
      " listing_id     int64\n",
      "date          object\n",
      "available     object\n",
      "price         object\n",
      "dtype: object \n",
      "\n",
      "Available columns with examples:\n",
      "    listing_id        date available   price\n",
      "0      241032  2016-01-04         t  $85.00\n",
      "1      241032  2016-01-05         t  $85.00\n",
      "2      241032  2016-01-06         f     NaN\n",
      "3      241032  2016-01-07         f     NaN\n",
      "4      241032  2016-01-08         f     NaN \n",
      "\n"
     ]
    }
   ],
   "source": [
    "# Shape of my data\n",
    "print('Amount of data:\\n',df_calendar.shape,'\\n')\n",
    "\n",
    "# How many listings in total? \n",
    "total_listings = df_calendar['listing_id'].nunique()\n",
    "print('Number of unique listings: ', total_listings ,'\\n')\n",
    "\n",
    "# Which data types?\n",
    "print('Data types: \\n', df_calendar.dtypes,'\\n')\n",
    "\n",
    "# Head of data set\n",
    "print('Available columns with examples:\\n',df_calendar.head(),'\\n')\n"
   ]
  },
  {
   "attachments": {},
   "cell_type": "markdown",
   "metadata": {},
   "source": [
    "We are handling a data set with around 1.3m rows and 4 columns. In that columns we have details per listing_id (house) in terms of availability and price. We see the availability flag per date and the price if the house is available. We are dealing with object columns. It would be easier for the analysis to split the date into day, month and year. In terms of the price, it would be much better to have it as integer to be able to make calculations."
   ]
  },
  {
   "cell_type": "code",
   "execution_count": 103,
   "metadata": {},
   "outputs": [
    {
     "name": "stdout",
     "output_type": "stream",
     "text": [
      "Overview about the date column:\n",
      " count        1393570\n",
      "unique           365\n",
      "top       2016-03-04\n",
      "freq            3818\n",
      "Name: date, dtype: object \n",
      "\n",
      "First date:  2016-01-04  and last date:  2017-01-02 \n",
      "\n",
      "Overview about the available column:\n",
      " count     1393570\n",
      "unique          2\n",
      "top             t\n",
      "freq       934542\n",
      "Name: available, dtype: object \n",
      "\n",
      "Overview about the price column:\n",
      " count      934542\n",
      "unique        669\n",
      "top       $150.00\n",
      "freq        36646\n",
      "Name: price, dtype: object \n",
      "\n",
      "How many NULL values in price column:  459028\n"
     ]
    }
   ],
   "source": [
    "print('Overview about the date column:\\n',df_calendar['date'].describe(),'\\n')\n",
    "print('First date: ', sorted(df_calendar['date'].unique())[0],' and last date: ', sorted(df_calendar['date'].unique())[-1],'\\n')\n",
    "\n",
    "print('Overview about the available column:\\n',df_calendar['available'].describe(),'\\n')\n",
    "\n",
    "print('Overview about the price column:\\n',df_calendar['price'].describe(),'\\n')\n",
    "print('How many NULL values in price column: ',df_calendar['price'].isnull().sum())\n",
    "\n",
    "#print('Max price: ', sorted(df_calendar[df_calendar.price.notnull()]['price'].unique()))#[0],' and min price: ', sorted(df_calendar[df_calendar.price.notnull()]['price'].unique())[-1], '\\n' )\n"
   ]
  },
  {
   "attachments": {},
   "cell_type": "markdown",
   "metadata": {},
   "source": [
    "The describe function gives us an overview about the columns: \n",
    "1) The date columns includes 365 unique entries, starting from 2016-01-04 to 2017-01-02. I will consider only the days from year 2016 later.\n",
    "2) We have in the availabilty flag 934542 with available = t (=true) and 459028 with available = f (=false). \n",
    "3) In the price column I can see, that in case a house is not available, I get a NULL. Dealing with a price as string including $ sign and separators is very hard. So I will transform it to an integer. NULL values are actually no problem in my case, but I will clean them as well."
   ]
  },
  {
   "attachments": {},
   "cell_type": "markdown",
   "metadata": {},
   "source": [
    "<h2 id='part1'>Section 3: Data Preparation</h2>\n",
    "I will need to clean up the NULL values in the price column and transform it to an integer. Because just the prices of not-available houses with availabile = f are filled with NULL I will replace them with 0, in order to be able to apply proper calculations. \n",
    "\n",
    "Additionally, I will split the date column into Year, Month and Day."
   ]
  },
  {
   "cell_type": "code",
   "execution_count": 104,
   "metadata": {},
   "outputs": [
    {
     "name": "stdout",
     "output_type": "stream",
     "text": [
      "   listing_id        date available   price  Year Month Day  price_number\n",
      "0      241032  2016-01-04         t  $85.00  2016    01  04            85\n",
      "1      241032  2016-01-05         t  $85.00  2016    01  05            85\n",
      "2      241032  2016-01-06         f   $0.00  2016    01  06             0\n",
      "3      241032  2016-01-07         f   $0.00  2016    01  07             0\n",
      "4      241032  2016-01-08         f   $0.00  2016    01  08             0\n",
      "listing_id       int64\n",
      "date            object\n",
      "available       object\n",
      "price           object\n",
      "Year            object\n",
      "Month           object\n",
      "Day             object\n",
      "price_number     int32\n",
      "dtype: object\n"
     ]
    }
   ],
   "source": [
    "# Split Date columns:\n",
    "df_calendar[['Year','Month','Day']] = df_calendar['date'].str.split(pat=\"-\", expand = True)\n",
    "\n",
    "# Transform price:\n",
    "df_calendar['price'] = df_calendar['price'].fillna(\"$0.00\")\n",
    "df_calendar['price_number'] = df_calendar['price'].str[1:-3]\n",
    "df_calendar['price_number']= df_calendar['price_number'].str.replace(r'\\D', '').astype(int) \n",
    "\n",
    "print(df_calendar.head())\n",
    "print(df_calendar.dtypes)\n",
    "\n"
   ]
  },
  {
   "attachments": {},
   "cell_type": "markdown",
   "metadata": {},
   "source": [
    "Great, now we have our data clean and can start our analysis."
   ]
  },
  {
   "attachments": {},
   "cell_type": "markdown",
   "metadata": {},
   "source": [
    "<h2 id='part1'>Section 4: Evaluate data</h2>\n",
    "<h3 id='part1'>Question 1:</h3>\n",
    "Do people favour specific seasons? \n",
    "\n",
    "Do get a better idea, which season is best to visit Seattle, I want to have a look, in which months people have mostly booked AirBnB houses in 2016. "
   ]
  },
  {
   "cell_type": "code",
   "execution_count": 105,
   "metadata": {},
   "outputs": [
    {
     "name": "stdout",
     "output_type": "stream",
     "text": [
      "   Month  Avg_Availability\n",
      "0     01          0.554133\n",
      "6     07          0.627097\n",
      "7     08          0.645051\n",
      "1     02          0.662208\n",
      "3     04          0.663847\n",
      "5     06          0.674384\n",
      "8     09          0.674402\n",
      "4     05          0.675670\n",
      "9     10          0.696514\n",
      "2     03          0.709187\n",
      "10    11          0.713986\n",
      "11    12          0.735573\n"
     ]
    },
    {
     "data": {
      "image/png": "[encoded data removed]",
      "text/plain": [
       "<Figure size 432x288 with 1 Axes>"
      ]
     },
     "metadata": {
      "needs_background": "light"
     },
     "output_type": "display_data"
    }
   ],
   "source": [
    "# How is the portion of available houses per month? \n",
    "availability = df_calendar.groupby('date').available.value_counts().reset_index(name='Count')\n",
    "availability['Portion']=availability.Count/total_listings\n",
    "availability[['Year','Month','Day']] = availability['date'].str.split(pat=\"-\", expand = True)\n",
    "Year_available = availability[(availability.available == 't') & (availability.Year=='2016')][['date','Month','Day','Portion']]\n",
    "Month_available = Year_available.groupby('Month').Portion.mean().reset_index(name='Avg_Availability')\n",
    "print(Month_available.sort_values(by = 'Avg_Availability'))\n",
    "\n",
    "Month_available.plot(x='Month', y='Avg_Availability', kind='bar') \n",
    "plt.show()"
   ]
  },
  {
   "attachments": {},
   "cell_type": "markdown",
   "metadata": {},
   "source": [
    "The most preferred seasons in 2016 to visit Seattle was at the beginning of the year in January and Feruary or in summer in July and August.\n",
    "\n",
    "Let's have a look into the different price ranges between Winter (January, February) and Summer (July, August)."
   ]
  },
  {
   "attachments": {},
   "cell_type": "markdown",
   "metadata": {},
   "source": [
    "<h3 id='part1'>Question 2:</h3>\n",
    "In which of these two season can I get a cheeper house?  "
   ]
  },
  {
   "cell_type": "code",
   "execution_count": 106,
   "metadata": {},
   "outputs": [
    {
     "name": "stdout",
     "output_type": "stream",
     "text": [
      "Price ranges and counts in Winter: \n",
      " binned\n",
      "(0, 50]        1096\n",
      "(50, 100]      4394\n",
      "(100, 150]     3399\n",
      "(150, 200]     1290\n",
      "(200, 1500]     994\n",
      "Name: no_listings, dtype: int64\n"
     ]
    }
   ],
   "source": [
    "# Define separate data frame for winter\n",
    "df_beginning = df_calendar[(df_calendar.Year == '2016') & ((df_calendar.Month == '01') | (df_calendar.Month == '02')) & (df_calendar.available == 't')]\n",
    "\n",
    "# What is the average price of the available houses in beginning of year (Jan, Feb)?\n",
    "prices_janfeb = df_beginning.groupby('price')['listing_id'].nunique().reset_index(name='no_listings')\n",
    "prices_janfeb['price_number'] = prices_janfeb['price'].str[1:-3].replace('1,000','1000').astype(int)\n",
    "prices_janfeb = prices_janfeb.sort_values('price_number', ascending = True)\n",
    "\n",
    "# Create bins to group prices and count\n",
    "bins = [0, 50, 100, 150, 200, 1500]\n",
    "prices_janfeb['binned'] = pd.cut(prices_janfeb['price_number'], bins)\n",
    "print('Price ranges and counts in Winter: \\n', prices_janfeb.groupby('binned')['no_listings'].sum())"
   ]
  },
  {
   "cell_type": "code",
   "execution_count": 107,
   "metadata": {},
   "outputs": [
    {
     "name": "stdout",
     "output_type": "stream",
     "text": [
      "Price ranges and counts in Summer: \n",
      " binned\n",
      "(0, 50]         225\n",
      "(50, 100]      1487\n",
      "(100, 150]     1119\n",
      "(150, 200]      964\n",
      "(200, 1500]    2060\n",
      "Name: no_listings, dtype: int64\n"
     ]
    }
   ],
   "source": [
    "# Define separate data frame for summer\n",
    "df_summer = df_calendar[(df_calendar.Year == '2016') & ((df_calendar.Month == '07') | (df_calendar.Month == '08')) & (df_calendar.available == 't')]\n",
    "\n",
    "# What is the average price of the available houses in summer?\n",
    "prices_julaug = df_summer.groupby('price')['listing_id'].nunique().reset_index(name='no_listings')\n",
    "prices_julaug['price_number'] = prices_julaug['price'].str[1:-3].replace('1,000','1000').replace('1,199','1199').replace('1,240','1240').replace('1,250','1250').astype(int)\n",
    "prices_julaug = prices_julaug.sort_values('price_number', ascending = True)\n",
    "\n",
    "# Create bins to group prices and count\n",
    "bins = [0, 50, 100, 150, 200, 1500]\n",
    "prices_julaug['binned'] = pd.cut(prices_julaug['price_number'], bins)\n",
    "print('Price ranges and counts in Summer: \\n', prices_julaug.groupby('binned')['no_listings'].sum())\n"
   ]
  },
  {
   "attachments": {},
   "cell_type": "markdown",
   "metadata": {},
   "source": [
    "Generally in winter are more cheep houses available than in summer. I can select out of 1096 houses for less than 50$. In summer I can select out of 225 houses for less than 50$. \n",
    "\n",
    "I decide to visit Seattle in winter because I have a higher number of available houses with a price lower than 50$.\n"
   ]
  },
  {
   "attachments": {},
   "cell_type": "markdown",
   "metadata": {},
   "source": [
    "<h3 id='part1'>Question 3:</h3>\n",
    "Which of that cheep houses are available for 2 weeks at least? "
   ]
  },
  {
   "cell_type": "code",
   "execution_count": 114,
   "metadata": {},
   "outputs": [
    {
     "name": "stdout",
     "output_type": "stream",
     "text": [
      "Example listing and list of available days: \n",
      "    listing_id Month                                            unique  nunique\n",
      "0        5682    01          [11, 12, 13, 14, 15, 19, 20, 26, 27, 31]       10\n",
      "1        5682    02                              [01, 02, 03, 04, 09]        5\n",
      "2       14386    01                  [06, 07, 08, 09, 10, 11, 12, 13]        8\n",
      "3       20928    01                                              [06]        1\n",
      "4       43373    01  [13, 14, 17, 18, 19, 20, 21, 24, 25, 26, 27, 28]       12 \n",
      "\n"
     ]
    },
    {
     "data": {
      "text/html": [
       "<div>\n",
       "<style scoped>\n",
       "    .dataframe tbody tr th:only-of-type {\n",
       "        vertical-align: middle;\n",
       "    }\n",
       "\n",
       "    .dataframe tbody tr th {\n",
       "        vertical-align: top;\n",
       "    }\n",
       "\n",
       "    .dataframe thead th {\n",
       "        text-align: right;\n",
       "    }\n",
       "</style>\n",
       "<table border=\"1\" class=\"dataframe\">\n",
       "  <thead>\n",
       "    <tr style=\"text-align: right;\">\n",
       "      <th></th>\n",
       "      <th>listing_id</th>\n",
       "      <th>Month</th>\n",
       "      <th>unique</th>\n",
       "      <th>nunique</th>\n",
       "    </tr>\n",
       "  </thead>\n",
       "  <tbody>\n",
       "    <tr>\n",
       "      <th>6</th>\n",
       "      <td>149489</td>\n",
       "      <td>01</td>\n",
       "      <td>[04, 05, 06, 07, 08, 09, 10, 11, 12, 13, 14, 1...</td>\n",
       "      <td>28</td>\n",
       "    </tr>\n",
       "    <tr>\n",
       "      <th>7</th>\n",
       "      <td>149489</td>\n",
       "      <td>02</td>\n",
       "      <td>[01, 02, 03, 04, 05, 06, 07, 08, 09, 10, 11, 1...</td>\n",
       "      <td>29</td>\n",
       "    </tr>\n",
       "    <tr>\n",
       "      <th>9</th>\n",
       "      <td>226677</td>\n",
       "      <td>01</td>\n",
       "      <td>[05, 06, 07, 08, 09, 10, 11, 12, 13, 14, 15, 1...</td>\n",
       "      <td>27</td>\n",
       "    </tr>\n",
       "    <tr>\n",
       "      <th>10</th>\n",
       "      <td>226677</td>\n",
       "      <td>02</td>\n",
       "      <td>[01, 02, 03, 04, 05, 06, 07, 08, 09, 10, 11, 1...</td>\n",
       "      <td>29</td>\n",
       "    </tr>\n",
       "    <tr>\n",
       "      <th>13</th>\n",
       "      <td>444221</td>\n",
       "      <td>01</td>\n",
       "      <td>[18, 19, 20, 21, 22, 23, 24, 25, 26, 27, 28, 2...</td>\n",
       "      <td>14</td>\n",
       "    </tr>\n",
       "  </tbody>\n",
       "</table>\n",
       "</div>"
      ],
      "text/plain": [
       "    listing_id Month                                             unique  \\\n",
       "6       149489    01  [04, 05, 06, 07, 08, 09, 10, 11, 12, 13, 14, 1...   \n",
       "7       149489    02  [01, 02, 03, 04, 05, 06, 07, 08, 09, 10, 11, 1...   \n",
       "9       226677    01  [05, 06, 07, 08, 09, 10, 11, 12, 13, 14, 15, 1...   \n",
       "10      226677    02  [01, 02, 03, 04, 05, 06, 07, 08, 09, 10, 11, 1...   \n",
       "13      444221    01  [18, 19, 20, 21, 22, 23, 24, 25, 26, 27, 28, 2...   \n",
       "\n",
       "    nunique  \n",
       "6        28  \n",
       "7        29  \n",
       "9        27  \n",
       "10       29  \n",
       "13       14  "
      ]
     },
     "execution_count": 114,
     "metadata": {},
     "output_type": "execute_result"
    }
   ],
   "source": [
    "\"\"\"\n",
    "Filter on cheap houses first\n",
    "\"\"\"\n",
    "df_cheep = df_beginning[df_beginning['price_number'] <=50]\n",
    "\n",
    "\"\"\" \n",
    "Create list of available days per listing\n",
    "\"\"\"\n",
    "\n",
    "df_cheep = df_cheep.sort_values(['listing_id', 'date'])\n",
    "df_cheep_grouped = df_cheep.groupby(['listing_id','Month'])['Day'].agg(['unique']).reset_index()\n",
    "df_cheep_grouped_days = df_cheep.groupby(['listing_id','Month'])['Day'].agg(['nunique']).reset_index()\n",
    "df_cheep_grouped['nunique'] = df_cheep_grouped_days['nunique']\n",
    "print('Example listing and list of available days: \\n', df_cheep_grouped.head(), '\\n')\n",
    "\n",
    "\"\"\"\n",
    "Determine consecutive days and count nights\n",
    "\"\"\"\n",
    "# Function to count ones in array\n",
    "def count_numbers(numbers):\n",
    "    \"\"\"\n",
    "    Input: [0,0,0,0,1,1,0,1,1,1,1,0,0,0,1,1,1,1,1,1,1,0,0,0,0,0,0,0,0,1,0,0]\n",
    "    Output: [2, 4, 7, 1]\n",
    "    \"\"\"\n",
    "    results = []\n",
    "    counter = 0\n",
    "    if all(p == 1 for p in numbers):\n",
    "        results.append(len(numbers))\n",
    "    else:\n",
    "        for number in numbers:\n",
    "            if number == 1:\n",
    "                counter += 1\n",
    "            elif (number != 1) and counter:\n",
    "                results.append(counter)\n",
    "                counter = 0\n",
    "    return results\n",
    "\n",
    "\n",
    "two_weeks_available = []\n",
    "\n",
    "for i in enumerate(df_cheep_grouped[\"unique\"]):\n",
    "    array = i[1].astype(int)\n",
    "\n",
    "    day_diff = []\n",
    "    for val in range(len(array)-1):\n",
    "        #calculate difference between numbers to determine number of nights\n",
    "        day_diff.append(array[val+1] - array[val])\n",
    "\n",
    "    \"\"\" \n",
    "    Use function for counting ones to determine how many nights are between consecutive days\n",
    "    if element2-element1 = 1 -> 1 night in between and then it is counted\n",
    "    \"\"\"    \n",
    "    count_consecutive_nights = count_numbers(day_diff)\n",
    "   \n",
    "\n",
    "    \"\"\" \n",
    "    Return index if house is available for at least 13 consecutive nights (Output: list of indexes from initial dataframe)\n",
    "    \"\"\"\n",
    "    if np.any(np.asarray(count_consecutive_nights) >= 13):\n",
    "        two_weeks_available.append(i[0])\n",
    "    \n",
    "\n",
    "available_houses = df_cheep_grouped.iloc[two_weeks_available]\n",
    "\n",
    "final_list_listings = available_houses['listing_id'].unique()\n",
    "# Available houses for at least two weeks: \n",
    "available_houses.head()\n"
   ]
  },
  {
   "attachments": {},
   "cell_type": "markdown",
   "metadata": {},
   "source": [
    "As a result I got a list of 218 houses, that I can visit in the most favoured season, in winter, for a price less than 50$ per night and are available for at least 13 consecutive nights."
   ]
  }
 ],
 "metadata": {
  "kernelspec": {
   "display_name": "base",
   "language": "python",
   "name": "python3"
  },
  "language_info": {
   "codemirror_mode": {
    "name": "ipython",
    "version": 3
   },
   "file_extension": ".py",
   "mimetype": "text/x-python",
   "name": "python",
   "nbconvert_exporter": "python",
   "pygments_lexer": "ipython3",
   "version": "3.7.6"
  },
  "orig_nbformat": 4,
  "vscode": {
   "interpreter": {
    "hash": "71e08cc607e8a437af5b6e17b6c514b1c8ce41bfe60921a502bdbf292af44bb0"
   }
  }
 },
 "nbformat": 4,
 "nbformat_minor": 2
}
